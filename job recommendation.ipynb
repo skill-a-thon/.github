{
 "cells": [
  {
   "cell_type": "markdown",
   "id": "6b0ad691",
   "metadata": {},
   "source": [
    "### First method on sample data"
   ]
  },
  {
   "cell_type": "code",
   "execution_count": 113,
   "id": "7eef63b0",
   "metadata": {},
   "outputs": [],
   "source": [
    "import numpy as np\n",
    "import pandas as pd\n",
    "from sklearn.metrics.pairwise import cosine_similarity\n",
    "import matplotlib.pyplot as plt\n",
    "from wordcloud import WordCloud, STOPWORDS, ImageColorGenerator\n",
    "import nltk\n",
    "import re\n",
    "from nltk.corpus import stopwords\n",
    "import string\n",
    "\n",
    "data = pd.read_csv('jobs.csv')"
   ]
  },
  {
   "cell_type": "code",
   "execution_count": 91,
   "id": "05777fbb",
   "metadata": {},
   "outputs": [
    {
     "name": "stdout",
     "output_type": "stream",
     "text": [
      "/home/ec2-user/anaconda3/envs/amazonei_tensorflow_p36/lib/python3.6/site-packages/secretstorage/dhcrypto.py:16: CryptographyDeprecationWarning: int_from_bytes is deprecated, use int.from_bytes instead\n",
      "  from cryptography.utils import int_from_bytes\n",
      "/home/ec2-user/anaconda3/envs/amazonei_tensorflow_p36/lib/python3.6/site-packages/secretstorage/util.py:25: CryptographyDeprecationWarning: int_from_bytes is deprecated, use int.from_bytes instead\n",
      "  from cryptography.utils import int_from_bytes\n",
      "Requirement already satisfied: wordcloud in /home/ec2-user/anaconda3/envs/amazonei_tensorflow_p36/lib/python3.6/site-packages (1.8.2.2)\n",
      "Requirement already satisfied: pillow in /home/ec2-user/anaconda3/envs/amazonei_tensorflow_p36/lib/python3.6/site-packages (from wordcloud) (8.4.0)\n",
      "Requirement already satisfied: matplotlib in /home/ec2-user/anaconda3/envs/amazonei_tensorflow_p36/lib/python3.6/site-packages (from wordcloud) (3.1.3)\n",
      "Requirement already satisfied: numpy>=1.6.1 in /home/ec2-user/anaconda3/envs/amazonei_tensorflow_p36/lib/python3.6/site-packages (from wordcloud) (1.18.1)\n",
      "Requirement already satisfied: python-dateutil>=2.1 in /home/ec2-user/anaconda3/envs/amazonei_tensorflow_p36/lib/python3.6/site-packages (from matplotlib->wordcloud) (2.8.1)\n",
      "Requirement already satisfied: kiwisolver>=1.0.1 in /home/ec2-user/anaconda3/envs/amazonei_tensorflow_p36/lib/python3.6/site-packages (from matplotlib->wordcloud) (1.1.0)\n",
      "Requirement already satisfied: pyparsing!=2.0.4,!=2.1.2,!=2.1.6,>=2.0.1 in /home/ec2-user/anaconda3/envs/amazonei_tensorflow_p36/lib/python3.6/site-packages (from matplotlib->wordcloud) (2.4.6)\n",
      "Requirement already satisfied: cycler>=0.10 in /home/ec2-user/anaconda3/envs/amazonei_tensorflow_p36/lib/python3.6/site-packages (from matplotlib->wordcloud) (0.10.0)\n",
      "Requirement already satisfied: six in /home/ec2-user/anaconda3/envs/amazonei_tensorflow_p36/lib/python3.6/site-packages (from cycler>=0.10->matplotlib->wordcloud) (1.14.0)\n",
      "Requirement already satisfied: setuptools in /home/ec2-user/anaconda3/envs/amazonei_tensorflow_p36/lib/python3.6/site-packages (from kiwisolver>=1.0.1->matplotlib->wordcloud) (45.2.0.post20200210)\n"
     ]
    }
   ],
   "source": [
    "!pip install wordcloud"
   ]
  },
  {
   "cell_type": "code",
   "execution_count": 114,
   "id": "a08bd81e",
   "metadata": {},
   "outputs": [
    {
     "data": {
      "text/plain": [
       "Unnamed: 0                 0\n",
       "Job Salary                 0\n",
       "Job Experience Required    0\n",
       "Key Skills                 0\n",
       "Role Category              0\n",
       "Functional Area            0\n",
       "Industry                   0\n",
       "Job Title                  0\n",
       "dtype: int64"
      ]
     },
     "execution_count": 114,
     "metadata": {},
     "output_type": "execute_result"
    }
   ],
   "source": [
    "data.isnull().sum()"
   ]
  },
  {
   "cell_type": "code",
   "execution_count": 116,
   "id": "866483bf",
   "metadata": {},
   "outputs": [
    {
     "data": {
      "text/plain": [
       "<Figure size 1080x720 with 0 Axes>"
      ]
     },
     "execution_count": 116,
     "metadata": {},
     "output_type": "execute_result"
    },
    {
     "data": {
      "text/plain": [
       "<Figure size 1080x720 with 0 Axes>"
      ]
     },
     "metadata": {},
     "output_type": "display_data"
    }
   ],
   "source": [
    "text = \" \".join(i for i in data[\"Key Skills\"])\n",
    "stopwords = set(STOPWORDS)\n",
    "wordcloud = WordCloud(stopwords=stopwords, \n",
    "                      background_color=\"white\").generate(text)\n",
    "#plt.figure( figsize=(15,10))\n",
    "#plt.imshow(wordcloud, interpolation='bilinear')\n",
    "#plt.axis(\"off\")\n",
    "#plt.show()"
   ]
  },
  {
   "cell_type": "code",
   "execution_count": 117,
   "id": "c944fe82",
   "metadata": {},
   "outputs": [],
   "source": [
    "text = \" \".join(i for i in data[\"Functional Area\"])\n",
    "stopwords = set(STOPWORDS)\n",
    "wordcloud = WordCloud(stopwords=stopwords, \n",
    "                      background_color=\"white\").generate(text)\n",
    "# plt.figure( figsize=(15,10))\n",
    "# plt.imshow(wordcloud, interpolation='bilinear')\n",
    "# plt.axis(\"off\")\n",
    "# plt.show()"
   ]
  },
  {
   "cell_type": "code",
   "execution_count": 118,
   "id": "367bcd92",
   "metadata": {},
   "outputs": [],
   "source": [
    "text = \" \".join(i for i in data[\"Job Title\"])\n",
    "stopwords = set(STOPWORDS)\n",
    "wordcloud = WordCloud(stopwords=stopwords, \n",
    "                      background_color=\"white\").generate(text)\n",
    "# plt.figure( figsize=(15,10))\n",
    "# plt.imshow(wordcloud, interpolation='bilinear')\n",
    "# plt.axis(\"off\")\n",
    "# plt.show()"
   ]
  },
  {
   "cell_type": "code",
   "execution_count": 119,
   "id": "67657ac1",
   "metadata": {},
   "outputs": [],
   "source": [
    "from sklearn.feature_extraction import text\n",
    "feature = data[\"Key Skills\"].tolist()\n",
    "tfidf = text.TfidfVectorizer(input=feature, stop_words=\"english\")\n",
    "tfidf_matrix = tfidf.fit_transform(feature)\n",
    "similarity = cosine_similarity(tfidf_matrix)"
   ]
  },
  {
   "cell_type": "code",
   "execution_count": 120,
   "id": "720380d5",
   "metadata": {},
   "outputs": [],
   "source": [
    "indices = pd.Series(data.index, index=data['Job Title']).drop_duplicates()"
   ]
  },
  {
   "cell_type": "code",
   "execution_count": 121,
   "id": "0d68886b",
   "metadata": {},
   "outputs": [],
   "source": [
    "def jobs_recommendation(Title, similarity = similarity):\n",
    "    index = indices[Title]\n",
    "    similarity_scores = list(enumerate(similarity[index]))\n",
    "    similarity_scores = sorted(similarity_scores, key=lambda x: x[::], reverse=True)\n",
    "    \n",
    "    similarity_scores = similarity_scores[0:10]\n",
    "    \n",
    "    newsindices = [i[0] for i in similarity_scores]\n",
    "    \n",
    "    return data[['Job Title', 'Job Experience Required', \n",
    "                 'Key Skills']].iloc[newsindices]"
   ]
  },
  {
   "cell_type": "code",
   "execution_count": null,
   "id": "a4fd8308",
   "metadata": {},
   "outputs": [],
   "source": []
  },
  {
   "cell_type": "markdown",
   "id": "fadce247",
   "metadata": {},
   "source": [
    "### Second method on sample US job data"
   ]
  },
  {
   "cell_type": "code",
   "execution_count": 103,
   "id": "aff14006",
   "metadata": {},
   "outputs": [
    {
     "name": "stderr",
     "output_type": "stream",
     "text": [
      "b'Skipping line 122433: expected 11 fields, saw 12\\n'\n",
      "b'Skipping line 602576: expected 11 fields, saw 12\\n'\n",
      "b'Skipping line 990950: expected 11 fields, saw 12\\n'\n"
     ]
    }
   ],
   "source": [
    "bucket='s3://msia-data/misc'\n",
    "data_key = 'jobs.tsv'\n",
    "data_location = 's3://{}/{}'.format(bucket, data_key)\n",
    "\n",
    "df=pd.read_csv(data_location,delimiter='\\t',encoding='utf-8',error_bad_lines=False)"
   ]
  },
  {
   "cell_type": "code",
   "execution_count": 104,
   "id": "2b50010e",
   "metadata": {},
   "outputs": [],
   "source": [
    "jobs_US = df.loc[df['Country']=='US']"
   ]
  },
  {
   "cell_type": "code",
   "execution_count": 105,
   "id": "7c14cd91",
   "metadata": {},
   "outputs": [],
   "source": [
    "jobs_US_base_line = jobs_US.iloc[0:10000,0:8]"
   ]
  },
  {
   "cell_type": "code",
   "execution_count": 106,
   "id": "50fa4a89",
   "metadata": {},
   "outputs": [],
   "source": [
    "jobs_US_base_line['Title'] = jobs_US_base_line['Title'].fillna('')\n",
    "jobs_US_base_line['Description'] = jobs_US_base_line['Description'].fillna('')\n",
    "#jobs_US_base_line['Requirements'] = jobs_US_base_line['Requirements'].fillna('')\n",
    "\n",
    "jobs_US_base_line['Description'] = jobs_US_base_line['Title'] + jobs_US_base_line['Description']"
   ]
  },
  {
   "cell_type": "code",
   "execution_count": 107,
   "id": "132eac25",
   "metadata": {},
   "outputs": [],
   "source": [
    "%matplotlib inline\n",
    "import matplotlib.pyplot as plt\n",
    "import seaborn as sns\n",
    "import pandas as pd\n",
    "import numpy as np\n",
    "import ast \n",
    "from scipy import stats\n",
    "from ast import literal_eval\n",
    "from sklearn.feature_extraction.text import TfidfVectorizer, CountVectorizer\n",
    "from sklearn.metrics.pairwise import linear_kernel, cosine_similarity\n",
    "# from nltk.stem.snowball import SnowballStemmer\n",
    "# from nltk.stem.wordnet import WordNetLemmatizer\n",
    "# from nltk.corpus import wordnet\n",
    "# from surprise import Reader, Dataset, SVD, evaluate\n",
    "\n",
    "import warnings; warnings.simplefilter('ignore')"
   ]
  },
  {
   "cell_type": "code",
   "execution_count": 108,
   "id": "245d5807",
   "metadata": {},
   "outputs": [],
   "source": [
    "tf = TfidfVectorizer(analyzer='word',ngram_range=(1, 2),min_df=0, stop_words='english')\n",
    "tfidf_matrix = tf.fit_transform(jobs_US_base_line['Description'])"
   ]
  },
  {
   "cell_type": "code",
   "execution_count": 109,
   "id": "50c3887d",
   "metadata": {},
   "outputs": [
    {
     "data": {
      "text/plain": [
       "(10000, 515343)"
      ]
     },
     "execution_count": 109,
     "metadata": {},
     "output_type": "execute_result"
    }
   ],
   "source": [
    "tfidf_matrix.shape"
   ]
  },
  {
   "cell_type": "code",
   "execution_count": 110,
   "id": "1df83044",
   "metadata": {},
   "outputs": [],
   "source": [
    "cosine_sim = linear_kernel(tfidf_matrix, tfidf_matrix)"
   ]
  },
  {
   "cell_type": "code",
   "execution_count": 111,
   "id": "b0922545",
   "metadata": {},
   "outputs": [],
   "source": [
    "jobs_US_base_line = jobs_US_base_line.reset_index()\n",
    "titles = jobs_US_base_line['Title']\n",
    "indices = pd.Series(jobs_US_base_line.index, index=jobs_US_base_line['Title'])"
   ]
  },
  {
   "cell_type": "code",
   "execution_count": 112,
   "id": "9d69d2e4",
   "metadata": {},
   "outputs": [],
   "source": [
    "def get_recommendations(title):\n",
    "    idx = indices[title]\n",
    "    #print (idx)\n",
    "    sim_scores = list(enumerate(cosine_sim[idx]))\n",
    "    #print (sim_scores)\n",
    "    sim_scores = sorted(sim_scores, key=lambda x: x[1], reverse=True)\n",
    "    job_indices = [i[0] for i in sim_scores]\n",
    "    return titles.iloc[job_indices]"
   ]
  },
  {
   "cell_type": "code",
   "execution_count": null,
   "id": "2dc780d9",
   "metadata": {},
   "outputs": [],
   "source": []
  }
 ],
 "metadata": {
  "kernelspec": {
   "display_name": "conda_amazonei_tensorflow_p36",
   "language": "python",
   "name": "conda_amazonei_tensorflow_p36"
  },
  "language_info": {
   "codemirror_mode": {
    "name": "ipython",
    "version": 3
   },
   "file_extension": ".py",
   "mimetype": "text/x-python",
   "name": "python",
   "nbconvert_exporter": "python",
   "pygments_lexer": "ipython3",
   "version": "3.6.10"
  }
 },
 "nbformat": 4,
 "nbformat_minor": 5
}
